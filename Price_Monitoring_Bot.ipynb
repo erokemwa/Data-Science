{
  "nbformat": 4,
  "nbformat_minor": 0,
  "metadata": {
    "colab": {
      "provenance": [],
      "authorship_tag": "ABX9TyMEWrREhR9W+vyfYSNvP+H0",
      "include_colab_link": true
    },
    "kernelspec": {
      "name": "python3",
      "display_name": "Python 3"
    },
    "language_info": {
      "name": "python"
    }
  },
  "cells": [
    {
      "cell_type": "markdown",
      "metadata": {
        "id": "view-in-github",
        "colab_type": "text"
      },
      "source": [
        "<a href=\"https://colab.research.google.com/github/erokemwa/Data-Science/blob/main/Price_Monitoring_Bot.ipynb\" target=\"_parent\"><img src=\"https://colab.research.google.com/assets/colab-badge.svg\" alt=\"Open In Colab\"/></a>"
      ]
    },
    {
      "source": [
        "!pip install MetaTrader5"
      ],
      "cell_type": "code",
      "metadata": {
        "id": "zvmA2cBKvEVd"
      },
      "execution_count": null,
      "outputs": []
    },
    {
      "cell_type": "markdown",
      "source": [
        "Imports the required libraries and sets up the constants. This should be run first to ensure all necessary modules are imported.\n",
        "---\n",
        "\n"
      ],
      "metadata": {
        "id": "-TgLymIIvZ3x"
      }
    },
    {
      "cell_type": "code",
      "source": [
        "```python\n",
        "import MetaTrader5 as mt5\n",
        "import time\n",
        "import logging\n",
        "\n",
        "# Constants\n",
        "SYMBOL = \"EURUSD\"\n",
        "PRICE_DELTA = 0.00005\n",
        "CHECK_INTERVAL = 5  # seconds"
      ],
      "metadata": {
        "id": "30bfI3iWvdi6"
      },
      "execution_count": null,
      "outputs": []
    },
    {
      "cell_type": "markdown",
      "source": [
        "Configures logging which will be used for outputting information, warnings, or errors throughout the script."
      ],
      "metadata": {
        "id": "kT3Jg0IqvmQR"
      }
    },
    {
      "cell_type": "code",
      "source": [
        "```python\n",
        "# Setup logging\n",
        "logging.basicConfig(level=logging.INFO, format='%(asctime)s - %(levelname)s - %(message)s')"
      ],
      "metadata": {
        "id": "s2HYq_pivnDw"
      },
      "execution_count": null,
      "outputs": []
    },
    {
      "cell_type": "markdown",
      "source": [
        "Defines helper functions for initializing MetaTrader5, fetching price information, and monitoring the price. Each function is encapsulated for clarity and reusability."
      ],
      "metadata": {
        "id": "qOoPRUPev4ew"
      }
    },
    {
      "cell_type": "code",
      "source": [
        "```python\n",
        "def initialize_mt5():\n",
        "    \"\"\"Initialize MetaTrader5 and select the trading symbol.\"\"\"\n",
        "    if not mt5.initialize():\n",
        "        logging.error(\"mt5.initialize() failed\")\n",
        "        return False\n",
        "    if not mt5.symbol_select(SYMBOL, True):\n",
        "        logging.error(f\"Failed to select the symbol: {SYMBOL}\")\n",
        "        mt5.shutdown()\n",
        "        return False\n",
        "    return True"
      ],
      "metadata": {
        "id": "8sZEQgVrv7r6"
      },
      "execution_count": null,
      "outputs": []
    },
    {
      "cell_type": "markdown",
      "source": [
        "Function to get price information"
      ],
      "metadata": {
        "id": "l9GaTfjqwQY1"
      }
    },
    {
      "cell_type": "code",
      "source": [
        "```python\n",
        "def get_price_info():\n",
        "    \"\"\"Fetch the price information for the symbol.\"\"\"\n",
        "    price_info = mt5.symbol_info_tick(SYMBOL)\n",
        "    if price_info is None:\n",
        "        logging.error(f\"Failed to get price info for {SYMBOL}\")\n",
        "        return None\n",
        "    return price_info"
      ],
      "metadata": {
        "id": "SlA6LLaVwR_A"
      },
      "execution_count": null,
      "outputs": []
    },
    {
      "cell_type": "markdown",
      "source": [
        "Function to monitor price"
      ],
      "metadata": {
        "id": "QIaykIQowu5c"
      }
    },
    {
      "cell_type": "code",
      "source": [
        "```python\n",
        "def monitor_price(starting_price, price_level_high, price_level_low):\n",
        "    \"\"\"Monitor the price and check if it goes beyond set thresholds.\"\"\"\n",
        "    old_price = starting_price\n",
        "    while True:\n",
        "        price_info = get_price_info()\n",
        "        if price_info is None:\n",
        "            continue\n",
        "\n",
        "        current_price = price_info.bid\n",
        "        if current_price != old_price:\n",
        "            logging.info(f\"Current price of {SYMBOL} is {current_price}\")\n",
        "            old_price = current_price\n",
        "\n",
        "        if current_price > price_level_high:\n",
        "            logging.info(f\"Current price of {SYMBOL} has reached the upper price limit of {price_level_high}\")\n",
        "            return True, current_price\n",
        "        elif current_price < price_level_low:\n",
        "            logging.info(f\"Current price of {SYMBOL} has reached the lower price limit of {price_level_low}\")\n",
        "            return False, current_price\n",
        "\n",
        "        time.sleep(CHECK_INTERVAL)"
      ],
      "metadata": {
        "id": "3ehwO-l2wxUS"
      },
      "execution_count": null,
      "outputs": []
    },
    {
      "cell_type": "markdown",
      "source": [
        "Contains the main logic of the script where we initialize, fetch initial price info, set price thresholds, and monitor the price."
      ],
      "metadata": {
        "id": "a2ryWyUZxLHr"
      }
    },
    {
      "cell_type": "code",
      "source": [
        "```python\n",
        "def main():\n",
        "    \"\"\"Main function to run the trading bot.\"\"\"\n",
        "    if not initialize_mt5():\n",
        "        return\n",
        "\n",
        "    price_info = get_price_info()\n",
        "    if price_info is None:\n",
        "        mt5.shutdown()\n",
        "        return\n",
        "\n",
        "    starting_price = price_info.bid\n",
        "    price_level_high = starting_price + PRICE_DELTA\n",
        "    price_level_low = starting_price - PRICE_DELTA\n",
        "\n",
        "    logging.info(f\"The starting price is {starting_price}\")\n",
        "    logging.info(f\"The high price is {price_level_high}\")\n",
        "    logging.info(f\"The low price is {price_level_low}\")\n",
        "\n",
        "    # Monitor price and get result\n",
        "    is_upper_limit, final_price = monitor_price(starting_price, price_level_high, price_level_low)\n",
        "\n",
        "    # Here you can add your trading logic based on the result\n",
        "    if is_upper_limit:\n",
        "        logging.info(f\"Price went above the upper limit. Final price: {final_price}\")\n",
        "    else:\n",
        "        logging.info(f\"Price went below the lower limit. Final price: {final_price}\")\n",
        "\n",
        "    # Shutdown MetaTrader5\n",
        "    mt5.shutdown()"
      ],
      "metadata": {
        "id": "MtFz7BbUxNcZ"
      },
      "execution_count": null,
      "outputs": []
    },
    {
      "cell_type": "markdown",
      "source": [
        "The entry point of the script when run as a standalone program. In a Jupyter Notebook, you would typically run this cell after defining all functions to execute the main logic."
      ],
      "metadata": {
        "id": "xjXaOJiqxas_"
      }
    },
    {
      "cell_type": "code",
      "source": [
        "```python\n",
        "if __name__ == \"__main__\":\n",
        "    main()"
      ],
      "metadata": {
        "id": "VlX8tA_WxcAE"
      },
      "execution_count": null,
      "outputs": []
    }
  ]
}