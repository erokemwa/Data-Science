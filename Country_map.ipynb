{
  "nbformat": 4,
  "nbformat_minor": 0,
  "metadata": {
    "colab": {
      "provenance": [],
      "authorship_tag": "ABX9TyNxaWGir71KqTjczaX5AALU",
      "include_colab_link": true
    },
    "kernelspec": {
      "name": "python3",
      "display_name": "Python 3"
    },
    "language_info": {
      "name": "python"
    }
  },
  "cells": [
    {
      "cell_type": "markdown",
      "metadata": {
        "id": "view-in-github",
        "colab_type": "text"
      },
      "source": [
        "<a href=\"https://colab.research.google.com/github/erokemwa/Data-Science/blob/main/Country_map.ipynb\" target=\"_parent\"><img src=\"https://colab.research.google.com/assets/colab-badge.svg\" alt=\"Open In Colab\"/></a>"
      ]
    },
    {
      "cell_type": "code",
      "execution_count": null,
      "metadata": {
        "id": "-5IRXBVjBmHu"
      },
      "outputs": [],
      "source": [
        "import plotly.express as px\n",
        "\n",
        "country = input(\"Enter the county name:\")\n",
        "data = {\n",
        "    'Country': [country],\n",
        "    'Values': [100],\n",
        "}\n",
        "\n",
        "# Convert the data dictionary to a Pandas DataFrame\n",
        "import pandas as pd\n",
        "df = pd.DataFrame(data)\n",
        "\n",
        "fig = px.choropleth(\n",
        "    df,  # Pass the DataFrame here\n",
        "    locations='Country',  # Use the 'Country' column name for locations\n",
        "    locationmode='country names',\n",
        "    color='Values',\n",
        "    color_continuous_scale='Inferno',\n",
        "    title=f'Country Map Highlighting {country}'\n",
        ")\n",
        "fig.show()"
      ]
    },
    {
      "cell_type": "code",
      "source": [
        "!pip install geopandas\n",
        "!pip install plotly.express\n",
        "!pip install requests\n",
        "\n",
        "import geopandas as gpd\n",
        "import plotly.express as px\n",
        "import requests\n",
        "import io\n",
        "\n",
        "# Function to download and read GeoJSON data\n",
        "def download_geojson(url):\n",
        "  \"\"\"\n",
        "  Downloads GeoJSON data from the provided URL and reads it into a GeoDataFrame.\n",
        "\n",
        "  Args:\n",
        "    url (str): The URL of the GeoJSON file.\n",
        "\n",
        "  Returns:\n",
        "    geopandas.GeoDataFrame: The GeoDataFrame containing the GeoJSON data.\n",
        "  \"\"\"\n",
        "  response = requests.get(url)\n",
        "  response.raise_for_status()  # Raise an exception for bad status codes (4xx or 5xx)\n",
        "  geojson_data = response.content\n",
        "  return gpd.read_file(io.BytesIO(geojson_data))\n",
        "\n",
        "# URL for Kenya counties GeoJSON\n",
        "url = \"https://data.humdata.org/dataset/json-repository/resource/51939d78-35aa-4591-9831-11e61e555130/download/kenya.geojson\"\n",
        "\n",
        "# Download and read the GeoJSON data\n",
        "try:\n",
        "  kenya_counties = download_geojson(url)\n",
        "  print(\"GeoJSON data downloaded successfully!\")\n",
        "except requests.exceptions.RequestException as e:\n",
        "  print(f\"Error downloading GeoJSON data: {e}\")\n",
        "\n",
        "# Accessing county names (rest of the code remains the same)\n",
        "county_name = input(\"Enter the county name in Kenya: \")"
      ],
      "metadata": {
        "colab": {
          "base_uri": "https://localhost:8080/"
        },
        "id": "wyPdY74SJei3",
        "outputId": "780e233f-2185-4baa-f622-82d2d88bb3fc"
      },
      "execution_count": null,
      "outputs": [
        {
          "name": "stdout",
          "output_type": "stream",
          "text": [
            "Requirement already satisfied: geopandas in /usr/local/lib/python3.10/dist-packages (1.0.1)\n",
            "Requirement already satisfied: numpy>=1.22 in /usr/local/lib/python3.10/dist-packages (from geopandas) (1.26.4)\n",
            "Requirement already satisfied: pyogrio>=0.7.2 in /usr/local/lib/python3.10/dist-packages (from geopandas) (0.10.0)\n",
            "Requirement already satisfied: packaging in /usr/local/lib/python3.10/dist-packages (from geopandas) (24.1)\n",
            "Requirement already satisfied: pandas>=1.4.0 in /usr/local/lib/python3.10/dist-packages (from geopandas) (2.2.2)\n",
            "Requirement already satisfied: pyproj>=3.3.0 in /usr/local/lib/python3.10/dist-packages (from geopandas) (3.7.0)\n",
            "Requirement already satisfied: shapely>=2.0.0 in /usr/local/lib/python3.10/dist-packages (from geopandas) (2.0.6)\n",
            "Requirement already satisfied: python-dateutil>=2.8.2 in /usr/local/lib/python3.10/dist-packages (from pandas>=1.4.0->geopandas) (2.8.2)\n",
            "Requirement already satisfied: pytz>=2020.1 in /usr/local/lib/python3.10/dist-packages (from pandas>=1.4.0->geopandas) (2024.2)\n",
            "Requirement already satisfied: tzdata>=2022.7 in /usr/local/lib/python3.10/dist-packages (from pandas>=1.4.0->geopandas) (2024.2)\n",
            "Requirement already satisfied: certifi in /usr/local/lib/python3.10/dist-packages (from pyogrio>=0.7.2->geopandas) (2024.8.30)\n",
            "Requirement already satisfied: six>=1.5 in /usr/local/lib/python3.10/dist-packages (from python-dateutil>=2.8.2->pandas>=1.4.0->geopandas) (1.16.0)\n",
            "Requirement already satisfied: plotly.express in /usr/local/lib/python3.10/dist-packages (0.4.1)\n",
            "Requirement already satisfied: pandas>=0.20.0 in /usr/local/lib/python3.10/dist-packages (from plotly.express) (2.2.2)\n",
            "Requirement already satisfied: plotly>=4.1.0 in /usr/local/lib/python3.10/dist-packages (from plotly.express) (5.24.1)\n",
            "Requirement already satisfied: statsmodels>=0.9.0 in /usr/local/lib/python3.10/dist-packages (from plotly.express) (0.14.4)\n",
            "Requirement already satisfied: scipy>=0.18 in /usr/local/lib/python3.10/dist-packages (from plotly.express) (1.13.1)\n",
            "Requirement already satisfied: patsy>=0.5 in /usr/local/lib/python3.10/dist-packages (from plotly.express) (0.5.6)\n",
            "Requirement already satisfied: numpy>=1.11 in /usr/local/lib/python3.10/dist-packages (from plotly.express) (1.26.4)\n",
            "Requirement already satisfied: python-dateutil>=2.8.2 in /usr/local/lib/python3.10/dist-packages (from pandas>=0.20.0->plotly.express) (2.8.2)\n",
            "Requirement already satisfied: pytz>=2020.1 in /usr/local/lib/python3.10/dist-packages (from pandas>=0.20.0->plotly.express) (2024.2)\n",
            "Requirement already satisfied: tzdata>=2022.7 in /usr/local/lib/python3.10/dist-packages (from pandas>=0.20.0->plotly.express) (2024.2)\n",
            "Requirement already satisfied: six in /usr/local/lib/python3.10/dist-packages (from patsy>=0.5->plotly.express) (1.16.0)\n",
            "Requirement already satisfied: tenacity>=6.2.0 in /usr/local/lib/python3.10/dist-packages (from plotly>=4.1.0->plotly.express) (9.0.0)\n",
            "Requirement already satisfied: packaging in /usr/local/lib/python3.10/dist-packages (from plotly>=4.1.0->plotly.express) (24.1)\n",
            "Requirement already satisfied: requests in /usr/local/lib/python3.10/dist-packages (2.32.3)\n",
            "Requirement already satisfied: charset-normalizer<4,>=2 in /usr/local/lib/python3.10/dist-packages (from requests) (3.4.0)\n",
            "Requirement already satisfied: idna<4,>=2.5 in /usr/local/lib/python3.10/dist-packages (from requests) (3.10)\n",
            "Requirement already satisfied: urllib3<3,>=1.21.1 in /usr/local/lib/python3.10/dist-packages (from requests) (2.2.3)\n",
            "Requirement already satisfied: certifi>=2017.4.17 in /usr/local/lib/python3.10/dist-packages (from requests) (2024.8.30)\n",
            "GeoJSON data downloaded successfully!\n",
            "Enter the county name in Kenya: Nakuru\n"
          ]
        }
      ]
    }
  ]
}